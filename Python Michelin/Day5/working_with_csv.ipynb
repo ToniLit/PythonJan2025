{
 "cells": [
  {
   "cell_type": "code",
   "execution_count": 10,
   "metadata": {},
   "outputs": [],
   "source": [
    "import csv \n",
    "\n",
    "\n"
   ]
  },
  {
   "cell_type": "markdown",
   "metadata": {},
   "source": [
    "\n"
   ]
  },
  {
   "cell_type": "code",
   "execution_count": 5,
   "metadata": {},
   "outputs": [
    {
     "name": "stdout",
     "output_type": "stream",
     "text": [
      "<class 'str'>\n"
     ]
    }
   ],
   "source": [
    "with open(\"exemple.csv\", \"r\") as file_reader:\n",
    "    text_inside = file_reader.read()\n",
    "    print(type(text_inside))"
   ]
  },
  {
   "cell_type": "code",
   "execution_count": 7,
   "metadata": {},
   "outputs": [
    {
     "name": "stdout",
     "output_type": "stream",
     "text": [
      "<class 'str'> id,country,team,trophies\n",
      "0,England,Liverpool,6\n",
      "1,S\n"
     ]
    }
   ],
   "source": [
    "with open(\"exemple.csv\", \"r\") as file_reader:\n",
    "    text_inside = file_reader.read()\n",
    "    print(type(text_inside), text_inside[:50]) # adu-mi doar primele 50 de caractere"
   ]
  },
  {
   "cell_type": "code",
   "execution_count": 14,
   "metadata": {},
   "outputs": [
    {
     "name": "stdout",
     "output_type": "stream",
     "text": [
      "id,country,team,trophies\n",
      "\n"
     ]
    }
   ],
   "source": [
    "with open(\"exemple.csv\", \"r\") as file_reader:\n",
    "    text_lines = file_reader.readline()\n",
    "    print(text_lines)"
   ]
  },
  {
   "cell_type": "code",
   "execution_count": 13,
   "metadata": {},
   "outputs": [
    {
     "name": "stdout",
     "output_type": "stream",
     "text": [
      "['id', 'country', 'team', 'trophies'] <class 'list'>\n",
      "['0', 'England', 'Liverpool', '6'] <class 'list'>\n",
      "['1', 'Spain', 'Barcelona', '5'] <class 'list'>\n",
      "['2', 'England', 'Man United', '3'] <class 'list'>\n",
      "['3', 'Italy', 'Inter', '3'] <class 'list'>\n",
      "['4', 'England', 'Chelsea', '2'] <class 'list'>\n",
      "['5', 'England', 'Chelsea', '2'] <class 'list'>\n",
      "['6', 'England', 'Nottm Forest', '2'] <class 'list'>\n",
      "['7', 'Portugal', 'Benfica', '2'] <class 'list'>\n",
      "['8', 'Italy', 'Juventus', '2'] <class 'list'>\n",
      "['9', 'Portugal', 'FC Porto', '2'] <class 'list'>\n",
      "['10', 'England', 'Man City', '1'] <class 'list'>\n",
      "['11', 'Germany', 'Dortmund', '1'] <class 'list'>\n",
      "['12', 'Netherlands', 'Feyenoord', '1'] <class 'list'>\n",
      "['13', 'France', 'Marseille', '1'] <class 'list'>\n",
      "['14', 'England', 'Aston Villa', '1'] <class 'list'>\n",
      "['15', 'Germany', 'Hamburg', '1'] <class 'list'>\n",
      "['16', 'Serbia', 'Crvena zvezda', '1'] <class 'list'>\n",
      "['17', 'Romania', 'FCSB', '1'] <class 'list'>\n",
      "['18', 'Netherlands', 'PSV', '1'] <class 'list'>\n",
      "['19', 'Scotland', 'Celtic', '1'] <class 'list'>\n"
     ]
    }
   ],
   "source": [
    "with open(\"exemple.csv\", \"r\") as file_reader:\n",
    "    CSV_Reader_obj= csv.reader(file_reader)\n",
    "    for row in CSV_Reader_obj:\n",
    "        print(row, type(row))\n",
    "\n"
   ]
  },
  {
   "cell_type": "code",
   "execution_count": null,
   "metadata": {},
   "outputs": [],
   "source": []
  },
  {
   "cell_type": "code",
   "execution_count": 16,
   "metadata": {},
   "outputs": [
    {
     "name": "stdout",
     "output_type": "stream",
     "text": [
      "[['id', 'country', 'team', 'trophies'], ['0', 'England', 'Liverpool', '6'], ['1', 'Spain', 'Barcelona', '5'], ['2', 'England', 'Man United', '3'], ['3', 'Italy', 'Inter', '3'], ['4', 'England', 'Chelsea', '2'], ['5', 'England', 'Chelsea', '2'], ['6', 'England', 'Nottm Forest', '2'], ['7', 'Portugal', 'Benfica', '2'], ['8', 'Italy', 'Juventus', '2'], ['9', 'Portugal', 'FC Porto', '2'], ['10', 'England', 'Man City', '1'], ['11', 'Germany', 'Dortmund', '1'], ['12', 'Netherlands', 'Feyenoord', '1'], ['13', 'France', 'Marseille', '1'], ['14', 'England', 'Aston Villa', '1'], ['15', 'Germany', 'Hamburg', '1'], ['16', 'Serbia', 'Crvena zvezda', '1'], ['17', 'Romania', 'FCSB', '1'], ['18', 'Netherlands', 'PSV', '1'], ['19', 'Scotland', 'Celtic', '1']]\n"
     ]
    }
   ],
   "source": [
    "with open(\"exemple.csv\", \"r\") as file_reader:\n",
    "    CSV_Reader_obj= csv.reader(file_reader)\n",
    "    data= [row for row in CSV_Reader_obj]\n",
    "    print(data)\n"
   ]
  },
  {
   "cell_type": "code",
   "execution_count": null,
   "metadata": {},
   "outputs": [],
   "source": [
    "with open(\"exemple.csv\", \"r\") as file_reader:\n",
    "    CSV_Reader_obj= csv.reader(file_reader)\n",
    "    data= [row for row in CSV_Reader_obj]\n",
    "    print(data)"
   ]
  },
  {
   "cell_type": "code",
   "execution_count": 18,
   "metadata": {},
   "outputs": [
    {
     "name": "stdout",
     "output_type": "stream",
     "text": [
      "[['id', 'country', 'team', 'trophies'], ['0', 'Spain', 'Real Madrid', '15'], ['0', 'England', 'Liverpool', '6'], ['1', 'Spain', 'Barcelona', '5'], ['2', 'England', 'Man United', '3'], ['3', 'Italy', 'Inter', '3'], ['4', 'England', 'Chelsea', '2'], ['5', 'England', 'Chelsea', '2'], ['6', 'England', 'Nottm Forest', '2'], ['7', 'Portugal', 'Benfica', '2'], ['8', 'Italy', 'Juventus', '2'], ['9', 'Portugal', 'FC Porto', '2'], ['10', 'England', 'Man City', '1'], ['11', 'Germany', 'Dortmund', '1'], ['12', 'Netherlands', 'Feyenoord', '1'], ['13', 'France', 'Marseille', '1'], ['14', 'England', 'Aston Villa', '1'], ['15', 'Germany', 'Hamburg', '1'], ['16', 'Serbia', 'Crvena zvezda', '1'], ['17', 'Romania', 'FCSB', '1'], ['18', 'Netherlands', 'PSV', '1'], ['19', 'Scotland', 'Celtic', '1']]\n"
     ]
    }
   ],
   "source": [
    "new_entery =['0','Spain','Real Madrid','15']\n",
    "data.insert(1, new_entery)\n",
    "print(data)"
   ]
  },
  {
   "cell_type": "code",
   "execution_count": 19,
   "metadata": {},
   "outputs": [
    {
     "name": "stdout",
     "output_type": "stream",
     "text": [
      "[['id', 'country', 'team', 'trophies'], ['0', 'Spain', 'Real Madrid', '15'], ['1', 'England', 'Liverpool', '6'], ['1', 'Spain', 'Barcelona', '5'], ['2', 'England', 'Man United', '3'], ['3', 'Italy', 'Inter', '3'], ['4', 'England', 'Chelsea', '2'], ['5', 'England', 'Chelsea', '2'], ['6', 'England', 'Nottm Forest', '2'], ['7', 'Portugal', 'Benfica', '2'], ['8', 'Italy', 'Juventus', '2'], ['9', 'Portugal', 'FC Porto', '2'], ['10', 'England', 'Man City', '1'], ['11', 'Germany', 'Dortmund', '1'], ['12', 'Netherlands', 'Feyenoord', '1'], ['13', 'France', 'Marseille', '1'], ['14', 'England', 'Aston Villa', '1'], ['15', 'Germany', 'Hamburg', '1'], ['16', 'Serbia', 'Crvena zvezda', '1'], ['17', 'Romania', 'FCSB', '1'], ['18', 'Netherlands', 'PSV', '1'], ['19', 'Scotland', 'Celtic', '1']]\n"
     ]
    }
   ],
   "source": [
    "p"
   ]
  },
  {
   "cell_type": "code",
   "execution_count": 20,
   "metadata": {},
   "outputs": [],
   "source": [
    "with open('exemple_edited.csv','w') as file_writer:\n",
    "    CSV_writer_obj= csv.writer(file_writer)\n",
    "    CSV_writer_obj.writerow(data)"
   ]
  }
 ],
 "metadata": {
  "kernelspec": {
   "display_name": "Python 3",
   "language": "python",
   "name": "python3"
  },
  "language_info": {
   "codemirror_mode": {
    "name": "ipython",
    "version": 3
   },
   "file_extension": ".py",
   "mimetype": "text/x-python",
   "name": "python",
   "nbconvert_exporter": "python",
   "pygments_lexer": "ipython3",
   "version": "3.13.0"
  }
 },
 "nbformat": 4,
 "nbformat_minor": 2
}
