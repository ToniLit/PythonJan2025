{
 "cells": [
  {
   "cell_type": "code",
   "execution_count": 2,
   "metadata": {},
   "outputs": [],
   "source": [
    "import pandas as pd"
   ]
  },
  {
   "cell_type": "code",
   "execution_count": 3,
   "metadata": {},
   "outputs": [
    {
     "name": "stdout",
     "output_type": "stream",
     "text": [
      "2.2.3\n"
     ]
    }
   ],
   "source": [
    "print(pd.__version__)"
   ]
  },
  {
   "cell_type": "code",
   "execution_count": 5,
   "metadata": {},
   "outputs": [
    {
     "name": "stdout",
     "output_type": "stream",
     "text": [
      "Series([], dtype: object)\n"
     ]
    }
   ],
   "source": [
    "empty_Sries = pd.Series()\n",
    "print(empty_Sries)"
   ]
  },
  {
   "cell_type": "code",
   "execution_count": 8,
   "metadata": {},
   "outputs": [
    {
     "data": {
      "text/plain": [
       "0"
      ]
     },
     "execution_count": 8,
     "metadata": {},
     "output_type": "execute_result"
    }
   ],
   "source": [
    "empty_Sries.size"
   ]
  },
  {
   "cell_type": "code",
   "execution_count": 11,
   "metadata": {},
   "outputs": [
    {
     "name": "stdout",
     "output_type": "stream",
     "text": [
      "0    11\n",
      "1    33\n",
      "2    50\n",
      "3    77\n",
      "dtype: int64 type[0    11\n",
      "1    33\n",
      "2    50\n",
      "3    77\n",
      "dtype: int64]\n"
     ]
    }
   ],
   "source": [
    "a_list=[11,33,50,77] # ai o lista\n",
    "Series=pd.Series(a_list)\n",
    "print(Series, type[Series])"
   ]
  },
  {
   "cell_type": "code",
   "execution_count": 12,
   "metadata": {},
   "outputs": [
    {
     "name": "stdout",
     "output_type": "stream",
     "text": [
      "0    RO\n",
      "1    PL\n",
      "2    HU\n",
      "dtype: object type[0    RO\n",
      "1    PL\n",
      "2    HU\n",
      "dtype: object]\n"
     ]
    }
   ],
   "source": [
    "a_list=['RO','PL','HU'] # ai o lista\n",
    "Series=pd.Series(a_list)\n",
    "print(Series, type[Series])"
   ]
  },
  {
   "cell_type": "code",
   "execution_count": 16,
   "metadata": {},
   "outputs": [
    {
     "name": "stdout",
     "output_type": "stream",
     "text": [
      "0              RO\n",
      "1              PL\n",
      "2              HU\n",
      "3    [other ctry]\n",
      "dtype: object <class 'pandas.core.series.Series'>\n",
      "['other ctry'] type[['other ctry']]\n"
     ]
    }
   ],
   "source": [
    "a_list=['RO','PL','HU',[\"other ctry\"]] # ai o lista\n",
    "Series=pd.Series(a_list)\n",
    "print(Series, type(Series))\n",
    "print(Series[3], type[Series[3]])\n"
   ]
  },
  {
   "cell_type": "code",
   "execution_count": 19,
   "metadata": {},
   "outputs": [
    {
     "name": "stdout",
     "output_type": "stream",
     "text": [
      "0       18\n",
      "1      555\n",
      "2      644\n",
      "3    45488\n",
      "dtype: object\n"
     ]
    }
   ],
   "source": [
    "a_list=[18,555,644,45488]\n",
    "my_ver = pd.Series(a_list, dtype=object)\n",
    "print(my_ver)"
   ]
  }
 ],
 "metadata": {
  "kernelspec": {
   "display_name": "Python 3",
   "language": "python",
   "name": "python3"
  },
  "language_info": {
   "codemirror_mode": {
    "name": "ipython",
    "version": 3
   },
   "file_extension": ".py",
   "mimetype": "text/x-python",
   "name": "python",
   "nbconvert_exporter": "python",
   "pygments_lexer": "ipython3",
   "version": "3.13.0"
  }
 },
 "nbformat": 4,
 "nbformat_minor": 2
}
