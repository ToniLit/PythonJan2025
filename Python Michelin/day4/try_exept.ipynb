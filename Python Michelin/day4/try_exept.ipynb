{
 "cells": [
  {
   "cell_type": "code",
   "execution_count": 2,
   "metadata": {},
   "outputs": [
    {
     "name": "stdout",
     "output_type": "stream",
     "text": [
      "ai o eroare baietas\n"
     ]
    }
   ],
   "source": [
    "div = 0\n",
    "try:\n",
    "    10/div\n",
    "    print(\"programul ruleaza\")\n",
    "except:    \n",
    "    print(\"ai o eroare baietas\")"
   ]
  },
  {
   "cell_type": "code",
   "execution_count": 3,
   "metadata": {},
   "outputs": [
    {
     "name": "stdout",
     "output_type": "stream",
     "text": [
      "programul ruleaza\n"
     ]
    }
   ],
   "source": [
    "div = 5\n",
    "try:\n",
    "    10/div\n",
    "    print(\"programul ruleaza\")\n",
    "except:    \n",
    "    print(\"ai o eroare baietas\")"
   ]
  },
  {
   "cell_type": "code",
   "execution_count": 4,
   "metadata": {},
   "outputs": [
    {
     "name": "stdout",
     "output_type": "stream",
     "text": [
      "ai o eroare baietas\n",
      "programul ruleaza\n"
     ]
    }
   ],
   "source": [
    "\n",
    "div = 0\n",
    "try:\n",
    "    10/div\n",
    "    print(\"programul ruleaza\")\n",
    "except:    \n",
    "    print(\"ai o eroare baietas\")\n",
    "\n",
    "\n",
    "div = 5\n",
    "try:\n",
    "    10/div\n",
    "    print(\"programul ruleaza\")\n",
    "except:    \n",
    "    print(\"ai o eroare baietas\")"
   ]
  },
  {
   "cell_type": "code",
   "execution_count": 18,
   "metadata": {},
   "outputs": [
    {
     "name": "stdout",
     "output_type": "stream",
     "text": [
      "problema generala\n",
      "aceasta comanda a fost rulata cu succes\n"
     ]
    }
   ],
   "source": [
    "div = \"222--\"\n",
    "try:\n",
    "    div+30\n",
    "    print(\"programul ruleaza\")\n",
    "except ZeroDivisionError:    \n",
    "    print(\"ai o eroare divizibila cu 0\")\n",
    "except ValueError:\n",
    "    print(\"eroare valoare\")\n",
    "except :\n",
    "    print(\"problema generala\")\n",
    "finally:\n",
    "    print(\"aceasta comanda a fost rulata cu succes\")"
   ]
  }
 ],
 "metadata": {
  "kernelspec": {
   "display_name": "Python 3",
   "language": "python",
   "name": "python3"
  },
  "language_info": {
   "codemirror_mode": {
    "name": "ipython",
    "version": 3
   },
   "file_extension": ".py",
   "mimetype": "text/x-python",
   "name": "python",
   "nbconvert_exporter": "python",
   "pygments_lexer": "ipython3",
   "version": "3.13.0"
  }
 },
 "nbformat": 4,
 "nbformat_minor": 2
}
