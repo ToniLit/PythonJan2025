{
 "cells": [
  {
   "cell_type": "code",
   "execution_count": 1,
   "metadata": {},
   "outputs": [
    {
     "name": "stdout",
     "output_type": "stream",
     "text": [
      "2010\n",
      "2011\n",
      "2012\n",
      "2013\n",
      "2014\n",
      "2015\n"
     ]
    }
   ],
   "source": [
    "# date de la care pleci\n",
    "data_inceput = 2010\n",
    "data_sfarsit = 2015\n",
    "# rezultat 2010, 2011...2015 dar unul sub celalalt\n",
    "ani = []\n",
    "\n",
    "for an in range(data_inceput, data_sfarsit + 1):\n",
    "    ani.append(an)\n",
    "    print(an)\n",
    "\n",
    "# print(\"Anii specifici:\", ani)\n",
    "\n",
    "# adugare an bisect"
   ]
  },
  {
   "cell_type": "code",
   "execution_count": 10,
   "metadata": {},
   "outputs": [
    {
     "name": "stdout",
     "output_type": "stream",
     "text": [
      "2010\n",
      "2011\n",
      "2012\n",
      "2013\n",
      "2014\n",
      "2015\n"
     ]
    }
   ],
   "source": [
    "# date de la care pleci\n",
    "data_inceput = 2010\n",
    "data_sfarsit = 2015\n",
    "# rezultat 2010, 2011...2015 dar unul sub celalalt\n",
    "ani = []\n",
    "\n",
    "for an in range(data_inceput, data_sfarsit + 1):\n",
    "    ani.append(an)\n",
    "    print(an)\n",
    "\n",
    "# print(\"Anii specifici:\", ani)\n",
    "\n"
   ]
  },
  {
   "cell_type": "code",
   "execution_count": 13,
   "metadata": {},
   "outputs": [
    {
     "name": "stdout",
     "output_type": "stream",
     "text": [
      "2010\n",
      "2011\n",
      "2012\n",
      "2013\n",
      "2014\n",
      "2015\n",
      "Anii specifici: ['2020 (bisect)', 2021, 2022, 2023, '2024 (bisect)', 2025]\n"
     ]
    }
   ],
   "source": [
    "\n",
    "\n",
    "# date de la care pleci\n",
    "data_inceput = 2010\n",
    "data_sfarsit = 2015\n",
    "# rezultat 2010, 2011...2015 dar unul sub celalalt\n",
    "ani = []\n",
    "\n",
    "for an in range(data_inceput, data_sfarsit + 1):\n",
    "    ani.append(an)\n",
    "    print(an)\n",
    "\n",
    "# print(\"Anii specifici:\", ani)\n",
    "\n",
    "# Funcție pentru a verifica dacă un an este bisect\n",
    "def este_bisect(an):\n",
    "    return an % 4 == 0 and (an % 100 != 0 or an % 400 == 0)\n",
    "\n",
    "# Datele de început și sfârșit\n",
    "data_inceput = 2020\n",
    "data_sfarsit = 2025\n",
    "\n",
    "# Lista pentru anii specifici\n",
    "ani = []\n",
    "\n",
    "# Iterarea prin fiecare an între datele de început și sfârșit\n",
    "for an in range(data_inceput, data_sfarsit + 1):\n",
    "    if este_bisect(an):\n",
    "        ani.append(f\"{an} (bisect)\")\n",
    "    else:\n",
    "        ani.append(an)\n",
    "\n",
    "# Afișarea anilor specifici\n",
    "print(\"Anii specifici:\", ani)\n"
   ]
  }
 ],
 "metadata": {
  "kernelspec": {
   "display_name": "Python 3",
   "language": "python",
   "name": "python3"
  },
  "language_info": {
   "codemirror_mode": {
    "name": "ipython",
    "version": 3
   },
   "file_extension": ".py",
   "mimetype": "text/x-python",
   "name": "python",
   "nbconvert_exporter": "python",
   "pygments_lexer": "ipython3",
   "version": "3.13.0"
  }
 },
 "nbformat": 4,
 "nbformat_minor": 2
}
