{
 "cells": [
  {
   "cell_type": "code",
   "execution_count": 1,
   "metadata": {},
   "outputs": [],
   "source": [
    "collection =[23,51,3,10,9,100,20]"
   ]
  },
  {
   "cell_type": "code",
   "execution_count": 2,
   "metadata": {},
   "outputs": [
    {
     "name": "stdout",
     "output_type": "stream",
     "text": [
      "3\n"
     ]
    }
   ],
   "source": [
    "element = collection[2]\n",
    "print(element)"
   ]
  },
  {
   "cell_type": "code",
   "execution_count": 3,
   "metadata": {},
   "outputs": [
    {
     "name": "stdout",
     "output_type": "stream",
     "text": [
      "3\n",
      "10\n"
     ]
    }
   ],
   "source": [
    "elem1 = collection[2]\n",
    "print(elem1)\n",
    "elem2 = collection[3]\n",
    "print(elem2)"
   ]
  },
  {
   "cell_type": "code",
   "execution_count": 8,
   "metadata": {},
   "outputs": [
    {
     "name": "stdout",
     "output_type": "stream",
     "text": [
      "(3, 10, 9, 100) <class 'tuple'>\n"
     ]
    }
   ],
   "source": [
    "collection =(23,51,3,10,9,100,20)\n",
    "a_sclice = collection[2:6]\n",
    "print(a_sclice, type(a_sclice))"
   ]
  },
  {
   "cell_type": "code",
   "execution_count": 12,
   "metadata": {},
   "outputs": [
    {
     "name": "stdout",
     "output_type": "stream",
     "text": [
      "welcom type[3, 10, 9, 100]\n"
     ]
    }
   ],
   "source": [
    "collection = \"welcome to our etc\"\n",
    "a_slice= collection[:6]\n",
    "print(a_slice, type[a_slice])"
   ]
  },
  {
   "cell_type": "code",
   "execution_count": 14,
   "metadata": {},
   "outputs": [
    {
     "name": "stdout",
     "output_type": "stream",
     "text": [
      "m type['m']\n"
     ]
    }
   ],
   "source": [
    "collection = \"welcome to our etc\"\n",
    "a_slice= collection[5:6]\n",
    "print(a_slice, type[a_slice])"
   ]
  },
  {
   "cell_type": "code",
   "execution_count": 16,
   "metadata": {},
   "outputs": [
    {
     "name": "stdout",
     "output_type": "stream",
     "text": [
      "l type['l']\n"
     ]
    }
   ],
   "source": [
    "collection = \"welcome to our etc\"\n",
    "a_slice= collection[2:3:4]\n",
    "print(a_slice, type[a_slice])"
   ]
  }
 ],
 "metadata": {
  "kernelspec": {
   "display_name": "Python 3",
   "language": "python",
   "name": "python3"
  },
  "language_info": {
   "codemirror_mode": {
    "name": "ipython",
    "version": 3
   },
   "file_extension": ".py",
   "mimetype": "text/x-python",
   "name": "python",
   "nbconvert_exporter": "python",
   "pygments_lexer": "ipython3",
   "version": "3.13.0"
  }
 },
 "nbformat": 4,
 "nbformat_minor": 2
}
