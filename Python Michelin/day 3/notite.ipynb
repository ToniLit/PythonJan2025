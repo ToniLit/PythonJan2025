{
 "cells": [
  {
   "cell_type": "markdown",
   "metadata": {},
   "source": [
    "Type of programing\n",
    "1. imperative\n",
    "    -Procedural\n",
    "    -Object-orientated\n",
    "2. Declarative\n",
    "3. Functiona "
   ]
  }
 ],
 "metadata": {
  "language_info": {
   "name": "python"
  }
 },
 "nbformat": 4,
 "nbformat_minor": 2
}
