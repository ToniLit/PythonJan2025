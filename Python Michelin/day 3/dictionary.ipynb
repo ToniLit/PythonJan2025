{
 "cells": [
  {
   "cell_type": "code",
   "execution_count": 3,
   "metadata": {},
   "outputs": [
    {
     "name": "stdout",
     "output_type": "stream",
     "text": [
      "<class 'dict'>\n"
     ]
    }
   ],
   "source": [
    "d = { }\n",
    "print(type(d))"
   ]
  },
  {
   "cell_type": "code",
   "execution_count": 6,
   "metadata": {},
   "outputs": [
    {
     "name": "stdout",
     "output_type": "stream",
     "text": [
      "<class 'list'> ['tur', 'mur', 'sur', 'dur', 'lur']\n"
     ]
    }
   ],
   "source": [
    "l = [\"tur\",\"mur\",\"sur\",\"dur\",'lur']\n",
    "print(type(l),l)"
   ]
  },
  {
   "cell_type": "code",
   "execution_count": 8,
   "metadata": {},
   "outputs": [
    {
     "data": {
      "text/plain": [
       "('sur', 'dur')"
      ]
     },
     "execution_count": 8,
     "metadata": {},
     "output_type": "execute_result"
    }
   ],
   "source": [
    "l[2], l[2-4]"
   ]
  },
  {
   "cell_type": "code",
   "execution_count": 16,
   "metadata": {},
   "outputs": [
    {
     "name": "stdout",
     "output_type": "stream",
     "text": [
      "{'tur': 'k7', 'mur': 'k2', 'sur': 'dur', 'lur': 'tt'}\n"
     ]
    }
   ],
   "source": [
    "d = {\"tur\":\"K1\",\"mur\":\"k2\",\"sur\":\"dur\",\"lur\":\"tt\"}\n",
    "d['tur']= \"k7\"\n",
    "print (d)"
   ]
  },
  {
   "cell_type": "code",
   "execution_count": null,
   "metadata": {},
   "outputs": [],
   "source": [
    "d = {\"tur\":\"K1\",\"mur\":\"k2\",\"sur\":\"dur\",\"lur\":\"tt\"}\n",
    "d['tur']= \"k7\"\n",
    "print (d)"
   ]
  },
  {
   "cell_type": "code",
   "execution_count": null,
   "metadata": {},
   "outputs": [],
   "source": [
    "d = {\"tur\":\"K1\",\"mur\":\"k2\",\"sur\":\"dur\",\"lur\":\"tt\"}\n",
    "d['tur']= \"k7\"\n",
    "print (d)"
   ]
  },
  {
   "cell_type": "code",
   "execution_count": 32,
   "metadata": {},
   "outputs": [
    {
     "name": "stdout",
     "output_type": "stream",
     "text": [
      "{'tur': 'K1', 'mur': 'k2', 'sur': 'dur', 'lur': 'tt'}\n",
      "tur K1\n",
      "mur k2\n",
      "sur dur\n",
      "lur tt\n"
     ]
    }
   ],
   "source": [
    "d = {\"tur\":\"K1\",\"mur\":\"k2\",\"sur\":\"dur\",\"lur\":\"tt\"}\n",
    "print(d)\n",
    "for I in d:\n",
    "    print (I, d[I])"
   ]
  },
  {
   "cell_type": "code",
   "execution_count": 37,
   "metadata": {},
   "outputs": [
    {
     "name": "stdout",
     "output_type": "stream",
     "text": [
      "{'calss': {'student': {'name': {'prenume'}}}} <class 'dict'>\n"
     ]
    }
   ],
   "source": [
    "a = {\n",
    "    \"calss\": {\n",
    "            \"student\":{\n",
    "                   \"name\":{\n",
    "                       \"prenume\"\n",
    "                   }\n",
    "                }\n",
    "    }\n",
    "}\n",
    "print(a, type(a))"
   ]
  },
  {
   "cell_type": "code",
   "execution_count": 52,
   "metadata": {},
   "outputs": [
    {
     "name": "stdout",
     "output_type": "stream",
     "text": [
      "{'name': {'prenume'}} <class 'dict'>\n"
     ]
    }
   ],
   "source": [
    "OUT_KEY = \"class\"\n",
    "a = {\n",
    "    OUT_KEY: {\n",
    "            \"student\":{\n",
    "                   \"name\":{\n",
    "                       \"prenume\"\n",
    "                   }\n",
    "                }\n",
    "    }\n",
    "}\n",
    "print(a[OUT_KEY][\"student\"], type(a))"
   ]
  }
 ],
 "metadata": {
  "kernelspec": {
   "display_name": "Python 3",
   "language": "python",
   "name": "python3"
  },
  "language_info": {
   "codemirror_mode": {
    "name": "ipython",
    "version": 3
   },
   "file_extension": ".py",
   "mimetype": "text/x-python",
   "name": "python",
   "nbconvert_exporter": "python",
   "pygments_lexer": "ipython3",
   "version": "3.13.0"
  }
 },
 "nbformat": 4,
 "nbformat_minor": 2
}
